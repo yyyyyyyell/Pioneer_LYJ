{
  "cells": [
    {
      "cell_type": "markdown",
      "metadata": {
        "id": "Dv2UF7ZmcsIT"
      },
      "source": [
        "# 문제 1\n",
        "문제 설명\n",
        "\n",
        "개미 군단이 사냥을 나가려고 합니다. 개미군단은 사냥감의 체력에 딱 맞는 병력을 데리고 나가려고 합니다. 장군개미는 5의 공격력을, 병정개미는 3의 공격력을 일개미는 1의 공격력을 가지고 있습니다. 예를 들어 체력 23의 여치를 사냥하려고 할 때, 일개미 23마리를 데리고 가도 되지만, 장군개미 네 마리와 병정개미 한 마리를 데리고 간다면 더 적은 병력으로 사냥할 수 있습니다. 사냥감의 체력 hp가 매개변수로 주어질 때, 사냥감의 체력에 딱 맞게 최소한의 병력을 구성하려면 몇 마리의 개미가 필요한지를 return하도록 solution 함수를 완성해주세요."
      ]
    },
    {
      "cell_type": "markdown",
      "metadata": {
        "id": "OcaseLb0c_BV"
      },
      "source": [
        "제한 사항\n",
        "\n",
        "\n",
        "*  hp는 자연수입니다.\n",
        "*  0 ≤ hp ≤ 1000\n",
        "\n"
      ]
    },
    {
      "cell_type": "markdown",
      "metadata": {
        "id": "AdrrmVhhdOyW"
      },
      "source": [
        "입출력 예\n",
        "\n",
        "![image.png](data:image/png;base64,iVBORw0KGgoAAAANSUhEUgAAAHwAAACJCAYAAADuQVwUAAAAAXNSR0IArs4c6QAAAARnQU1BAACxjwv8YQUAAAAJcEhZcwAADsMAAA7DAcdvqGQAABE6SURBVHhe7Z0NVFTV2sf/BQMOwmiMih+DMJeYVNLxIiFwhUu8kfcSveJFozRwGeLyg0KDNIxU1HvltQwtyLKLLlETXl8WlGaJaF1AQQIUBDTQ8APEUUEdlBFBe/fMbAhQ8cyEMOPZv7UGzt77OWfx7P/ZH2ezzzNP2Ti4/AYGb3jK3smTV4Krbqsg7CekKf7xNP3N4AlMcJ7BBOcZTHCewQTnGUxwnsEE5xlMcJ7BBOcZHAV/CXHJ25G28iWaZvQuPVf/HAUXw9bRDs+OFNM0o3d5QP1/mIRTBUmIpUmusC7dWDEzg7kF+dAkV3QWPGRtEgryssjdlYWSPeuwzJsWEEISUnFq/zqE+S3Ezv37NDancrZjS6QbtTBWpmLL/ixkJwQhfON2lKj9Sl1My9xIXsc62YDYoGG0jDLyJSzbRM+7r97arj2VpindtODYVHIdPztyZIcA9TVJnYdoix6JToKb272BSG8zlP2UjR+KzqF5uBvCVm9AWFu5hRXMn7FDcPRU2CqK8cPBfBRdF+PF2WtwYLUxi05aksgMQ1zDEOkKlOVk48fjF0m+G+L2rCF1Mgw3jpM6If6eNnseIUSsnbPbRCc2ie8jzNUMp8l5GhsLZ4St24TIkepy7bUHkNbaiW5acMURcp1TDeSoAeUHyXFuEU5rix6JboJbnEVCUDDeil6FRfNDEfh/VcAzMnjPpAZqLIijBTHwConBougYzHw1FAklwLOTZyGcmhgr5nfL8C/i/8zIVZi/NhW2S8IQIL2DIxtC4Tuf1AnxN3ByDH6otYTH9DB4aM76KyZIidj7ghBIztPYxKSTBlOGK5py3UndSK7zayM5akSVWovVqTiiLXokOgne/GsZvjpPE4QLtY1Qqg9MNElKHYo35tNjNXVYn1UGpYUd3Ln2OwaK8mReJ/9fk9vBvLYYiVvraI6afGwvI+kRdtD22jfR3AzYepCufpozbNVZeYmYPz8RyR2u1VvoJniz+q56BI11KO/qyMEG3IAlhjjS9BPCYNIVY4QXdpZlo7rDZ+dk0suZmEGksSLiJuTjspUzQlZuQHYJGcMPJmHDzL6pDJ0nbY+EjOOD6WE73tYYQO70y7/S9JNCK/mcz4LX816Q3vcJxvtaK1zYugRerl7weisG61OKccHEDlOiP8KWLvO03qDnBSfOTAjvPEsNcrcnd3s9LhykGU8IebVk4kS67jmaydfveAQFIciV1oGTG0IiQhBEDi8UZCNh7RL4h2TjAqxh66w2yMaVa4Bo6HPa7p4SNMiKHvUsPS/4XeLjzDWIm6rushwRFL0Jyzyt0VzyHyT2wZj1OPlm3QGUtxIft5LxWePvMHiQJ5K4JQsRu+QfWgFl/0B42Bws2zIHHuobYySZoUc6kbI7UNaqDeqQd47cOCPJ0LBpDkJenYrITalY5mqtLnw4jXfIj2GYsHYqpkymcwMO9LzgTWVIzjJDwOokMp4lIW6mE1CejqXR/yZ39RPGeTI+f5hOHsXI+KzxNxU7I70w5Go+1r+bqPU3PR4Je84BE0Kwcx8Z4/dtIM/gVji9JxGLvtBcBalrd+FHIr6tZwhi1y5G+OgGpOaSc7pj3VdILr+DZ19djA2rw/AazX4UPbprNWzLPiwbXYl/uS/CV6Qrm/InSyh/zcKP5dTAAHhcu1ZtyRjtbGPWjb+OePFVOzK03SRi5+OBJqT1e1gV44gu9aXjOY9PcJpnaLBtygxeYTJwiN1KevyHuVJ3ASVHf0bOmTrtgowB0traCoGpgKb4B3vzhGewLp1nMMF5BhOcZzDBeQYTnGcwwXkGE5xnsJAfPIMtvPAM1qXzDCY4z2CC8wwmOM9ggvMMJjjPYILzDCY4z2CC8wydVtoEskl4ZfIkyKViWLTcQPWJn7B7Ry7qaXkbQpdAzPCTQzZQCDTXo7IkE1+nFENFy/sS/VfanOH/rg/s79sOp0TFN5tx6BRNGjjcW7h0CsIXBMJHAlQX56OwphWSiYFYFj0FHQOBiAOjsGb2JMhM61GYR+yuWEDmGYwP5rnBuLcO2sLRYQRs+9OkkcK5hbtEfIQQ22okf/g5CmlTFfgswJpACSpTliEpR53ji/ANfhhamYrYz/PRorEiN8GbMVjhfht7oz5GZh83c71buOtcrJllj8pty5BcQPOMEI4tXAzBTQUqT5S2i62m5VAtLkEI0RCagXzs+uJzxH/9u9hq6i81kLQ1ho6lGcbICBFEaIKyhqaNFI6C1yMv6WMkbMulaS0CnxEYSkbm+vaXxhpRf6oK9ddpUoMV3J0kEKhqUGLELUMk7Ed+3gZkgQh5NwrhSxcgwNvR6IYp/WfpQje84esI04tF+O4BQkqmziWVEoUla1dhmq0SOWlbUULLjJGhIgvycwR8AibAVmiKAYMd4TOdDGlLO89hDB093zyxx8vvzYL3wDp8/+8klHVq0VpEoydglLg/LKwsITL/Dc3XFDhWocA9Wt5X6PvmSdPl8zh27D/4dkcGDuXkIiczG8X9R8FTPgaSp3NRUKmODmD46CE4ETt6IfxtbiAndSP2nHiwo8pTRSg4TCvGUg5/bw84/EYq5nTfVoy+grfeaIDyaqMm6IOWVtyquAbxX16Ak2UzMo8YR3gLHbt0IcbMewv+EhUKU9djdx6XKbcKit25KLlpiqF2o2nek8JJ1N8kcxmBurs3DnQQnIg9NxrzyEy7MOUjJD9I7L9HYH3iRwj1oek2hNakWye/7xlHt3c/NghYGY9PVwbRQD0UoR9kNqQ3u2Y8oQ44d+niwEWIcB+Eq4UZyPjFBKJB4vaP0ESFW7eImLVC2HqOgdxxLMxbb+JKExnLn/NAYNhLGGt5DQUZu1FxmV6wj9CvS7+Fi8+MhedYGcaNBBSXmwEHN0xX+2VehwM703DmAfMYQ4TjwoszQv4nGC6WNNkF5YntiPmiWJuQeiMk+GW42Py+uNGirMX+lERklvTxqgtB/6VVIaTTFyLUawREbf3izVrs/dow/OLK49u1KrSBjR3pAK/VQKEwnAr547tWhRA5SCC8aVh+cYVtU+YZ+i+8MIwSJjjPYILzDCY4z2CC8wwmOM9ggvMMJjjPYILzDCY4z2AhP3iGUaylu7eq8H7TZTxF/tK4/oNxxFT/DQdsLd0ICLvdgMH37mLQb3cRprpGcxn6YBSC3+vQB/X1JkhjxygE/0JojbqnBZrPJnLM0B/2/3CewR7LeAYTnGcwwXkGE5xnMMF5hk6zdK4hP37HHp7zpkE+wHDCYvyxWboVZK8HI0Auhdi8BUpFFQ6lpyCv0ni2K3Nv4RxDfnREPP11BIwdAdlIe0g6vaNjjKjfq3sP4Z5SCK+UIqf4LJqsx+GNtyOJj9TECOAsuMt/T4K0tQrJK+OQvCMNuz+LQ2x6FVolExHgSY06MnwKQv5iA2U9hy+ZNwY8Z2PWWFMU7liO2E+2Y++OzYhfmYrCJjE8J/sZTWAAjoJzDfnRhhCeM8gNoirFrhJD/Y5C3fCcSFq2oggZHV+iVOVj1ycbEZ9eRDMMH46Ccw35oUXgMxv+UhUKv01BJc0zbsZBIjaF8lIVVGQeE/C2OuRHBEJenwRr5VnUnFF0imljyOg/S39YyA91/mRHtJTvwy5O748bA1IMJXMQpakbVkQEwn2wKWAuhtwzEB8sn4sxRrRSq6fg9nh5USBchLXY/3Vap1m6LNgPLiZVyNjaOZLTk4DEyR416RuxdHkcElYtx/sbc1EtHI3Q+b7UwvDRQ/COIT8SkVlNs9W4zkaIXIjKg1s7jfVPDDVHkZR1libIHKYyDfvJI5lA4ggXmmfo6Ch49yE/fF4cB1GLChbjFmoiOGk+cvW/MwWQ+ZLjWZO0hkZHNS6Ruafyxv1jdc31JtK9W3SODGHA6CD4o0N+1F+qRWWdEqQKnjBKUXFRBZHduC7jtT18ZGLiOHmCoTmGDueVNnUM1WVkVt5QmIpteZ3X1lq6e+mfnPepjzUKDSRkpd4rbdIgfBDlBmtFPpJ35qIGtpBP8UOAgxDVWR+TRzMFNTRsOAquQ8iPrjwpghME7sFYHOgMSdvp91SozE7Bl7tLjWaCyna86IHAxh42lioojOj5uw39n8N5TIvCuBZbOsIE5xlMcJ7BBOcZTHCewQTnGUxwnsEE5xlMcJ7BBOcZLAIEz2Br6TyDdek8gwnOM5jgPIMJzjOY4DyDCc4zmOA8gwnOM5jgPEO3lTbpJARM9YaLZAAENAJEelouum5JF8j98Ia/G5zEQqC5HuUFmdidXoyuO9e52vUkf2ibMscIGEKXQMzwk0M2UIim69Uo2rcdewvvf09eIPPFNH85xLerkPH5N6ih+Y8T7l8nLZ2CxRF+cLa6izMninDm9jOQyV+A78ThOHPoeLvTAve5WDF7IqRPXUdJSQWumI2A059fgPfYfig4/AuadbTrafT9Omm1/xFvE//730JFSSnOt2j99xnfD0W5v7TfpKKpUVge+DzErXUoLDyLe5JRcHP/KxzMS1Fw6ha1UocOeQcR0ybgWbEIYgsVjmUVdRM6pefgKLgN/N95Ey6CKiTHrMO3P59ERUEucs4MxHjvCZCJjuNwmdqZSZi9yAt21/MRG/Ml8kvLUXL4Rxy+4wBvtzEY2ngQx86rr8fVrufRV3CXWXPgbXUGySvi8X0x9b9Z+/cO7uDXm3MmwkbxE+Jit6GwohSFh6pwV+4K9+eG4WLmz1C/nyILjUG4a3+cO5yCIhM5HPpdRUEvCc5xDB8He2ugvvxA5wgQlanII45KRnlrX6YbJYVE2IrKo6md/nhVVi6OK4WQOXtrM7jaGQwcI2D4jINMqELJwW86+HUWmQeroBRK4dL2NdsN5dj12WokpBTjDs3qLTgKbgHBQxpFy91WMmgNgESdsDB9SKwTFVpbiJklqTh1kqudwcAtAobEzhrCFgWqu75SVVCNSy2mpNxRk6xMJw2ljyI/cRS8AjXklhVL3bTCtiENhLvEFLAUafOLazSOSZ18OwkmcH8RcnWoJ5EYUnUGVztD5gERMCzMLcjkU6XptjtTDyWZlAjMrWi67+AoOJlFfn8SSrEzFq9agIC/+8LzzQX44O1JEKm0d6r2u/8PYFdOLbkR/LBmaTB8iJ3P7CismEHubCWxuNf2cg5XO0Pl4REwDB3Oz+EteZvxz625qBZI4ePvh+kuQ3GjYDs+O9EE3FS2P1LUpyVi3bcnUT/YGQHE7hUnU1Tu3YzvLpFCZUP7e9Rc7QyPbiJgUEif1wUz+rvv4Sy4GlVhGhKi38M7CxfjnUXLNZMO2fABZBLS8YV40qXt34x1UcSG2EVGxSF5Pxnf1FGQ6jvWDlc7Q6L7CBiVigYyvA0hdUIz2hhuB1tLcpMrHvJKdS/CUXBHTF8Vj/VRXQLQ0TG8+nQmzfBF+IZ4rAgdTdNatGOzCpXHS2kOVztD4tERMHC0mvR0Ysgnd/ZLMtmRPNgqUHWUZvQhHJ/DG6AY9gJ56hgFJ+tGnFa0oN9zHpgR8l+QtZZi52c/03GsDvdIvvvzThj+Wz3ON5L513h/zHvtzxhYexhf/m/bggpXu55H3+dwceAiRLgPwtXCDGT8YgLRIHH7R2iiwq1bZO7ReBbX7D3gNZ76dccUth7BCPWWoLn8OyQdqrnvO1scPP8GWS8+h+uwtGoFeehCzBhvAyHtF1RXTiJj22bkdeyBhY7wmR+MVxys2nsD5flcJH2ahuqOjYKrXQ+j39KqLhEw7OH57lsI6OjXmQOI/2TfAwV9OToe/gNPImHp5l6Zt+ixa9UK4lFDYdpdXBc1QhvY2InQeqkK9ddp3oPgatdD9NquVY1fQqjOnYXyMd7AusK2KfMMnWbpDOOHCc4zmOA8gwnOM5jgPIMJzjOY4DyDCc4rgP8HJxbp9FcaNrMAAAAASUVORK5CYII=)"
      ]
    },
    {
      "cell_type": "markdown",
      "metadata": {
        "id": "0Y_WZXtldxJL"
      },
      "source": [
        "입출력 예 설명\n",
        "\n",
        "입출력 예 #1\n",
        "* hp가 23이므로, 장군개미 네마리와 병정개미 한마리로 사냥할 수 있습니다. 따라서 5를 return합니다.\n",
        "\n",
        "입출력 예 #2\n",
        "* hp가 24이므로, 장군개미 네마리 병정개미 한마리 일개미 한마리로 사냥할 수 있습니다. 따라서 6을 return합니다.\n",
        "\n",
        "입출력 예 #3\n",
        "* hp가 999이므로, 장군개미 199 마리 병정개미 한마리 일개미 한마리로 사냥할 수 있습니다. 따라서 201을 return합니다."
      ]
    },
    {
      "cell_type": "code",
      "execution_count": 14,
      "metadata": {
        "id": "3DFwXzZ8gFE5"
      },
      "outputs": [],
      "source": [
        "def solution(hp):\n",
        "    a = int(hp // 5)\n",
        "    b = int((hp - (5 * a)) // 3)\n",
        "    c = int((hp - (5 * a) - (3 * b)))\n",
        "\n",
        "    return a + b + c"
      ]
    },
    {
      "cell_type": "markdown",
      "metadata": {
        "id": "eBfCuOHFeJra"
      },
      "source": [
        "# 문제 2\n",
        "\n",
        "문제 설명\n",
        "\n",
        "정수 배열 numbers와 정수 num1, num2가 매개변수로 주어질 때, numbers의 num1번 째 인덱스부터 num2번째 인덱스까지 자른 정수 배열을 return 하도록 solution 함수를 완성해보세요."
      ]
    },
    {
      "cell_type": "markdown",
      "metadata": {
        "id": "e-XFA4hGedzZ"
      },
      "source": [
        "제한 사항\n",
        "* 2 ≤ numbers의 길이 ≤ 30\n",
        "* 0 ≤ numbers의 원소 ≤ 1,000\n",
        "* 0 ≤num1 < num2 < numbers의 길이"
      ]
    },
    {
      "cell_type": "markdown",
      "metadata": {
        "id": "XbSloKTfesIu"
      },
      "source": [
        "입출력 예\n",
        "\n",
        "![image.png](data:image/png;base64,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)"
      ]
    },
    {
      "cell_type": "code",
      "execution_count": 13,
      "metadata": {
        "id": "fy78lcQ6gHsy"
      },
      "outputs": [],
      "source": [
        "def solution(numbers, num1, num2):\n",
        "    return numbers[num1:num2+1]"
      ]
    },
    {
      "cell_type": "markdown",
      "metadata": {
        "id": "JKBhfLsQfAj4"
      },
      "source": [
        "## 문제 3\n",
        "문제 설명\n",
        "\n",
        "머쓱이는 구슬을 친구들에게 나누어주려고 합니다. 구슬은 모두 다르게 생겼습니다. 머쓱이가 갖고 있는 구슬의 개수 balls와 친구들에게 나누어 줄 구슬 개수 share이 매개변수로 주어질 때, balls개의 구슬 중 share개의 구슬을 고르는 가능한 모든 경우의 수를 return 하는 solution 함수를 완성해주세요."
      ]
    },
    {
      "cell_type": "markdown",
      "metadata": {
        "id": "4yHIIHbjfKiX"
      },
      "source": [
        "제한 사항\n",
        "* 1 ≤ balls ≤ 30\n",
        "* 1 ≤ share ≤ 30\n",
        "* 구슬을 고르는 순서는 고려하지 않습니다.\n",
        "* share ≤ balls"
      ]
    },
    {
      "cell_type": "markdown",
      "metadata": {
        "id": "ZIegGIrbfcRh"
      },
      "source": [
        "입출력 예 설명\n",
        "\n",
        "입출력 예 #1\n",
        "* 서로 다른 구슬 3개 중 2개를 고르는 경우의 수는 3입니다.\n",
        "\n",
        "입출력 예 #2\n",
        "* 서로 다른 구슬 5개 중 3개를 고르는 경의 수는 10입니다."
      ]
    },
    {
      "cell_type": "markdown",
      "metadata": {
        "id": "zcHUKw-Efy2v"
      },
      "source": [
        "Hint\n",
        "* 서로 다른 n개 중 m개를 뽀는 경우의 수 공식은 다음과 같습니다.\n",
        "\n",
        "![image.png](data:image/png;base64,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)"
      ]
    },
    {
      "cell_type": "code",
      "execution_count": 16,
      "metadata": {
        "id": "gj5RwHG_gJdK"
      },
      "outputs": [],
      "source": [
        "def factorial(n):\n",
        "    if n == 0 or n == 1:\n",
        "        return 1\n",
        "    result = 1\n",
        "    for i in range(2, n+1):\n",
        "        result *= i\n",
        "    return result\n",
        "\n",
        "def combination(n, k):\n",
        "    return factorial(n) // (factorial(k) * factorial(n - k))\n",
        "\n",
        "def solution(balls, share):\n",
        "    return combination(balls, share)"
      ]
    },
    {
      "cell_type": "markdown",
      "metadata": {
        "id": "B6AZq6APgSmm"
      },
      "source": [
        "# 문제 4\n",
        "문제 설명\n",
        "\n",
        "도현이네 반 N명의 친구 관계가 입력으로 주어진다. 이때, 각 사람의 친구의 수를 출력하는 프로그램을 작성하시오.\n",
        "\n",
        "각 사람은 1번부터 N번까지 번호가 매겨져 있다. A와 B가 친구면, B와 A도 친구이다. 자기 자신과 친구인 경우, 즉 A와 B가 같은 경우는 없다."
      ]
    },
    {
      "cell_type": "markdown",
      "metadata": {
        "id": "tIzaObGihgRK"
      },
      "source": [
        "입력\n",
        "\n",
        "첫째 줄에 도현이네 반 학생의 수 N(1 ≤ N ≤ 100,000), M(0 ≤ M ≤ 1,000,000)이 주어진다.\n",
        "\n",
        "둘째 줄부터 M개의 줄에는 친구 관계를 나타내는 A B가 한 줄에 하나씩 주어진다.\n",
        "\n",
        "A B가 입력으로 주어진 경우에 B A가 다시 입력으로 주어지는 경우는 없다."
      ]
    },
    {
      "cell_type": "markdown",
      "metadata": {
        "id": "1KwLunsDhlDF"
      },
      "source": [
        "출력\n",
        "\n",
        "첫째 줄부터 N번째 줄에 걸쳐서 각 학생의 친구의 수를 1번 학생부터 출력한다."
      ]
    },
    {
      "cell_type": "markdown",
      "metadata": {
        "id": "k0DoyADrhpPe"
      },
      "source": [
        "![image.png](data:image/png;base64,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)"
      ]
    },
    {
      "cell_type": "code",
      "execution_count": 19,
      "metadata": {
        "id": "y-UUyxtahsYx"
      },
      "outputs": [],
      "source": [
        "#넘무 어려워요.."
      ]
    },
    {
      "cell_type": "markdown",
      "metadata": {
        "id": "igg26RfLhuzb"
      },
      "source": [
        "# 문제 5\n",
        "문제 설명\n",
        "\n",
        "머쓱이는 친구에게 모스부호를 이용한 편지를 받았습니다. 그냥은 읽을 수 없어 이를 해독하는 프로그램을 만들려고 합니다. 문자열 letter가 매개변수로 주어질 때, letter를 영어 소문자로 바꾼 문자열을 return 하도록 solution 함수를 완성해보세요.\n",
        "모스부호는 다음과 같습니다.\n",
        "\n",
        "morse = {\n",
        "    '.-':'a','-...':'b','-.-.':'c','-..':'d','.':'e','..-.':'f',\n",
        "    '--.':'g','....':'h','..':'i','.---':'j','-.-':'k','.-..':'l',\n",
        "    '--':'m','-.':'n','---':'o','.--.':'p','--.-':'q','.-.':'r',\n",
        "    '...':'s','-':'t','..-':'u','...-':'v','.--':'w','-..-':'x',\n",
        "    '-.--':'y','--..':'z'\n",
        "}"
      ]
    },
    {
      "cell_type": "markdown",
      "metadata": {
        "id": "7CuWxvNjizQU"
      },
      "source": [
        "제한 사항\n",
        " * 1 ≤ letter의 길이 ≤ 1,000\n",
        " * return값은 소문자입니다.\n",
        " * letter의 모스부호는 공백으로 나누어져 있습니다.\n",
        " * letter에 공백은 연속으로 두 개 이상 존재하지 않습니다.\n",
        " * 해독할 수 없는 편지는 주어지지 않습니다.\n",
        " * 편지의 시작과 끝에는 공백이 없습니다.\n"
      ]
    },
    {
      "cell_type": "markdown",
      "metadata": {
        "id": "00U_ZdeajMsA"
      },
      "source": [
        "입출력 예\n",
        "\n",
        "![image.png](data:image/png;base64,iVBORw0KGgoAAAANSUhEUgAAAQMAAABvCAYAAADokKVeAAAAAXNSR0IArs4c6QAAAARnQU1BAACxjwv8YQUAAAAJcEhZcwAADsMAAA7DAcdvqGQAABJeSURBVHhe7d0LVBNX/gfwr5WAoRAR1FTkIavkr6KyjYpoxUWq9UWLLGtp/y3xWKsHlbOosIJCfbYgWsUH1Fb/6llZt2W7XetKrY+tuGDRP4uoyEtiiw9E+SNqwZoiaP93biYUQVKIAYP5fc4J3LlzZ/K68507Q8h0UYya9DMIIWavi7z/CAoDQsxM954OYukXPAyk3aTiJCFPj+YnDagvtj/hdX5cGDwn/iaEmDkKA0IIR2FACOEoDAghHIUBIYSjMCCEcBQGhBCOwoAQwlEYEEI4A8NgAtbuScEXKyeI04SYr4CV23B0TxQCxOnOysAwcICzuysGuDT/SKNe7+1EcfZOrBIndVal/gvFqYvEKUI6l94ubFtw74Pe4nRL/dzUdexhgqUlrKzZTZzU4XXsRsgzoYV+buqMGgbjQ99H2jcHWSqyPX1mCva+FwhncR7f+091ZSVXTBfmH14HFRYhjZWnu7Bql4l8uYykQN5e4By8CHsPiOs7+SXSNqswXpwnUCWl8vXMYfd7NJO16YRpTJ5UIHYdFvpNMMI2p+Cc0FcajTL19UnOZQKWbROXY7dzB9Zhma84r2Hdv/RJTs+e//H9vHMwWhiMX5OCbWHj4Fydj0PfZCC91BLD2cactiuYv/iFWRk4VHyLlW6hgM0/dOI0LqIE6axccJtV31Zrlzt9WVgdnGdtQhp744ZbXuZtDp2tgbPvu9h2IKohEKysbWHVQ4mIeUpAfQqHMvNRJs4j5oLtgWWW6O01BxFeQH4m60Nny/mcX+uTgDfWJkdjjpclLrLlDn1zChetlZizbhsihB2UuO7uTUetevb8j+/nnYNxwsBlASJYGtZmJ8M/cAkWLl2NeapgzDt8HTKv3yNiNJC6eTUWfl/DGtdAzeYvXJOKLHyFDays5tWX+HIrdueyiWlYNVMJq9KvMG/SPMwT2s8Lgf+OAsBtIsJChTsVWd/H6U2zMfGdWCyMSMQOsZqYF6sH+YgLDsFbEazvxae2qk8Cv8NwNxYEB4MRxJZbuDQWQbH7cOh0Pir5Wtvu8f28czBOGLw2BAOsriNrRyquilWC9L+r2XQfDPARK1pr9GgM6HkfBYcTkC5WCa4mnUbBPUs4D2n0V4yaEhzffV2cIOaquugkdlwRJwSt6pN3UVvLRqFjNmHVH5Ta0cLJZMybl4w9jddlJowTBnIbNmTqg8k7MlCa3+i2gw3R2GwrW22zVnO3QXc2RFOGNllfvgpKa+HwoI1/xSDmp1V9km34Safwf7ZKqFZuQsa5f+HcNzux6S13YabZMU4YPBB+XMf+qePgNqT5beJ7vFXr8fXdRdaGx6/P8x02DCREn1b2yau7l2Cc1ziMY4eZGz7LxdWurghYuh67mpwzNAfGCYPT19kxFht6vdVHrBCNDsQc3fCrLfayodwDG7h7TRMrdKZBNccbHuIUIS1qTZ/08IYqXIVgVryanYGk+CXwV2Wwwwh7OCuFBhmovA3IXvivR/pwcM+2DnU7B+OEwYFEfFl8Hx5/2Ia9S6fxjdXZKxjb3luAZUsXIISfmWVq7rMffTA8PhABk34JiWp23AbHIWx4NgGTvYQ3LxkpmbfQy2cBjsYHY4ywvMc0rNq7AKvCoxFhhqlN2qg1fVLxe4TNeRfLdr2r7WMuSsyJ8GD98j6qrwkruY6Tl2+x+nHYu+1dqF4NRMS2VCzzshdmtqyFfm7qjBMG7EWLW7wWey5aYsxbUUhjx2YZuxZgcs8qpCfFIk53MmbdDuwpuI8Bry7CpjVz8LpYHZe0DwX3heHZcmwK144GUsP+hA2ZNXCeugB7D7JjvdQoqIYABXvX4p19vAkherSiT+5LRNKBy8BwlbaPHdyEZb62uHggGQs/1q4lNf5TpLNgcPZRYVX8IoQNuoXUE9o/f7eohX5u6oz/7cgsXSd72sOq5jL2H1eLlU2wNmNsc5FVIE6LnL2UkGXn4tFqd4x/1RWy+7eQe5gd04m15NnTbt+O/Kt9UuxjuMuC4FST/idqoc/qZcgyHaClb0emr0onJoO+Kr1j0FelE0L0ojAghHAUBoQQjsKAEMJRGBBCOAoDQghHYUAI4SgMCCEchQEhhKMwIIRw/OPIYpkQYibofxOISaP/TegY9L8JhBC9KAwIIRyFASGEozAghHAUBoQQjsKAEMJRGBBCOAoDQghHYUAI4QwMA3f4zY/EDH7xyrGYEaUrE5PiE4Kw+QFwYkWnwLkN5WeLnr4oPP+oEHiKk4bT3sfsQPEajIastxO8FwaGgS2cXPvCqbdQdoCTi65MTEpvORSuclizorW8X0P52aKnLwrP30UOuThpOO19uMnFy6oZst5O8F7QYQIhhKMwIM8+N1+8GbMaCRvXIyEhFqEzhkEiztJx8AlG6Oo4bZv4aKhea95GL+kw+IVGY4Ww/MY4xETNwmhF5/qnq6429o4rJRZtetrMQ9SxMc51dRHKK59D/fMaXCkSyuJsYhqes0TXu9dQcKEMdyVWqK+6xMvCdW5NUX19PYzaFwePwRQ3GRzc3dH9znlkF5fjro0zPIe+CIVVHk4V/8jX4BAUiWWvDob1zfPIOl+K8p/lUHqPgY/LD8jMKWP30AeeEz3hcCcPx3Kui+sFSg5m4TthBVJvqJa/DT95LdS5Z1F46QdI+/8WvqMH4sEF1uYOa2NC74XwOnezbn6QYmAY/IjKC7qN/ybKCykITFLlJZSIHa62TN1QNlWGhYGevsg3Wjvc+s/HWLv7W5QUFuBcZjnsXhqJoTb1+PrbC2xDnojZ7wxHt8JUrNp8EMVs+eLsDJyxG4lJI1zQ5ewJlNToDwOnmXMxo99dHNv0Pj7NKGL3k4fsb39AL5/ReMm1K9Kz1HhoQu+FkcPAtAlna1UB4+E1dkzDbWjvSpwpviW2eFLCWevX4ddo/V5j+6P22zxUiC3aRt/6hDPZ72CaX+N5Q2BTdRqlNzviuXYcw8JAD77RPkDO3n+iuEasY4HhOGoyFF0u4esTLAzGTUbQECD7f/6KwoY2gKaqD5TjBkBafRTZF/WFgRx+AS/D7XY2kg5cYKMIUX0ZqpxHYpxHD2hYu1Kx2hS0FAZ0zoA8437CvXKx+Dg9rCGFA/xiErEludEtxptt5haQNN9mmugLmRSovn0VdWKNTln1T/y3Bf9p+uibjojJMPo3HQVFYosfkLbgQxwRqwSvLE2EP47jj/H7gUDWZoIF0iLX4ohGbNCMEqqEEChKUxD7cW6T9Q7Dm/Gz8Nsb+xG1+bjYXksyIxobfOub3f/TRt90RMjjFFWgio0MFC83CSHHYRjsKW/FXxTyoL5RD6nz4CYfQpLC25VtcFUVKBRrTJ0Rw0AKn8XrsWVjJPwctTWSKeFI2LoeYYHixzOGhiBmayJWzFZqpzEI01ezIdkHs6AQa5pptkxTze9Xr3Z5DI214nUgpqP47zjGDugVEyKgmjKIvXvs/ZJ7Y/q7IQid9Qa8WzFQyTmWhyqpO/47MgBOdqxCKsfgt8Mx3Q0oPXMEZdpmJs+IYSCDVMqOjqy6QSbT1khtpJA+Z4Huugo7YZq17K4bojhAZsV+PS9jpRY0W6ap5verV7s8hsZa8ToQE6JBZvJ2fHnFEp7+c5GQnIgNy4PhJ6tCZup2ZLZ46NDI+RSs+ywP1Y6+WPIB27F8GI3QUTKUHk9B0j7DTik/DXTOgJiMp/7tyGyPLneVQXLvBsquNPrTQqtJIevvBJnkHqqKr7GYMU0tnTOgMCAm46mHgZmgE4iEEL0oDAghHIUBIYSjMCCEcBQGhBCOwoAQwlEYEEI4CgNCCEdhQAjh+CcQxTIhxEzQx5GJSaOPI3cM+jgyIUQvCgNCCEdhQAjhKAwIIRyFASGEozAghHAUBoQQjsKAEMJRGBBCOAPDQLj+XyRm+Ahl4TqBujIxT0IfmAu/gaw4MACzdeUO8fT6onCdy7D5AXASp9sbv7+ZY3nZc2ZkQ9lYDAwDWzi59oVTb6HsACcXXZmYJ6EP9IOTcFkImRxuunKH6Ji+KFwYJ2HxVHFKy1reDwpXOX71coxGwu/PUfsxYrlj34aysdBhAiGtILWyYLdn62rlTVEYkGfXa+FI2BgOHzsl/KNWszLbuyfEInTGsIZrKA6eHYuED+Y2uU4iIAkUlo2Gf/+pCGXLTRIulec4lq8jZtYwbSORhWcQQlfHadcfH403J/QT5+j0g+fb4YhJYPNZmxXL58N/hK04TzAMM1YK61XCbYauXRxiFgfBrQP/b6urjb3jyrZfE/8h6tjY6Lq6COWVz6H+eQ2uFAllcTYxM0IfqMHlAjUqq1lfeliJEqHcxosS1dfXw6h9cYgPXnPvgZ7DXoRbfRGyzpeismtfeChHwcflB2TmlKFCMhC+3u5w+Pkosi9q18gG4Zj6uj8G3s/H7n0XUCurRbceLuhV+x3Scy6g9PsilJb9CIcRL8OrtyXcPFxRe/E08r6/hYdyNyhfHAq7m+nIvyasqx9eWboAbwySovz8f1ibG6yNB156yQu9bp/CubJ61qYvRkx5Ec72v4GnXIPC3EJ8d6cbFEOGwMfTBt/+uwi1rFWdxAr1Fd+hpPQmai1t8OO1Yl5uK+F17mbd/ODGwDD4EZUXdBv/TZQXUhCYN6EPiBt/TRlKdeU2MiwM9PTFwWMwxa0nul47gBUb/oliNq/wZDrO2I3EpBEu6HL2BEqK70H+0kh42D7Ekazvtcs5Tsb0KS6ozv0LjuVf4uu0HzUZivvnsfmTfTwIBDwMHCUo/Nsa7DiQh5LCPOSclKD/+EH4TdfrOHa6AhL/mQgdLkX+P9bgk31CmwKcOa7GgxfHwNdDjvPHzqIafeA50ROuXb7H7tUf4d/nilByNgtn7EfCd2Av4GwGitnrWVumbtj4q0tZGwOCQNBSGLTr9xkIZz+nKx49k6Qp2Y+d+9SATwjCxjS5KvGNU0j68wlxQj+9625GOMvszfK+sQpkJqTgHD8bHYDBjUdt7O0p3L8dx4rFycae8HEbhd7H0Hmfq9G/zyAoElv87JHzl2XYc1KsE0iDsOTDsag7tgiJX7C+NCsWSzxr8PnSzfxCq7I3ovG+Tz3SIj/EEfGCia8sTYQ/juOP8fu1FYwiNA5hijLsWfwRcsQ6QAlVQggUpSmI/TgXI8LXQ+WoRlLUdpSILbgp4djg74Ccncvxaa52GY/y/YjafFxswHjNxfsz+6Hkz+zxZ4t1RkDfZ0DM1C3caBwEAs013LjL9uy9tJfYLzusZocLTvB8WQgiOfwGylFXWoj01lw5ta6exWnL7K0tgDsVjwaBoEoDDSzYSEicZupq9a2p/dE3HRGT0T4jg27I3Po+Pn9k5BOARcm+kBxfhnWfC1u8HP7LozH+3lFE/9UWS2JG4Ie0PyHpa21rQYsjA7dLTfb6j44M/KISMV16CrErUx8NjdFsr/+2bq//6DINaGRAiDE5QKF89Oy+xL8fnNh++cZl3a6/AocLrkHiNhjT/Nwh15Qis1EQPImcq1VALzeME/4a0YjTYCfI6ipQasSN/EkZMQyk/IMZWzZGwq/JE2+7QZi+OhFbPpgFhVjTJkNDELM1EStma4eBT5OEHRsmbF2PsEDx2LvZY2v6XI35OranJ3yPOkw97D3fxpu+ckjYaysbHYxFE/pBUnkOXzXaEOsOFqKkri/8RjtAczkP58R6HQ07HIDcHf5KFhby1o9eqvf9L1uvHONDZ2EEX84WTlPmI1Rpi+rCTGRqm5kEI4aBDFIpOwCy6gbZE3/6zAEyK/breRkrGcBOCil7ZrLuxv2EliGkNsJjsUB33YvS7LE1fa7GfB3b0xO+Rx2G7fW/vAZFUDQ2JMexobk3HO7kYeemVLB99i80B8U/89Xg7PHmJ0gzv0hHYW1fvDJ7Pha/MUqsbQXNUXzy0VGorYZBtTwOW5JXY4m/GzTn9yNxe6NDAhNA5wyIyWifcwZA2oIPcUQqh9yVpevtMlRUPP7MID/z37sQ62J2o0ysa0oil8OiooIdZLSd1MUdDtZ1qL58CdWGrMBI6JwBMW+aClQUq1sMAokiCH5uFig7f7DFIBDUGRgEAs0VNcqKn24Q6ENhQMycL2ZvTMSG8LGQV+fiy88qxHrzQ4cJxGQY/TDBri+cXgCqiq/p2ZvbwmHgC5DWVaPiuwrUibXPspYOEygMiMkwehiQx6JzBoQQvSgMCCEchQEhhKMwIIRwFAaEEI7CgBDCURgQQjj+OQOxTAgxE4/90JFi1CQKA0IIHSYQQrQoDAghHIUBIYSjMCCEMMD/A4iAYh/Ydc0XAAAAAElFTkSuQmCC)"
      ]
    },
    {
      "cell_type": "markdown",
      "metadata": {
        "id": "nJ9w7t-3jVIk"
      },
      "source": [
        "입출력 예 설명\n",
        "\n",
        "입출력 예 #1\n",
        "* .... = h\n",
        "* . = e\n",
        "* .-.. = l\n",
        "* .-.. = l\n",
        "* --- = o\n",
        "* 따라서 \"hello\"를 return 합니다.\n",
        "\n",
        "입출력 예 #2\n",
        "* .--. = p\n",
        "* -.-- = y\n",
        "* -= t\n",
        "* .... = h\n",
        "* --- = o\n",
        "* -. = n\n",
        "* 따라서 \"python\"을 return 합니다.\n"
      ]
    },
    {
      "cell_type": "code",
      "execution_count": 26,
      "metadata": {
        "id": "wexqUU6-j7vX"
      },
      "outputs": [],
      "source": [
        "def solution(letter):\n",
        "    morse = {\n",
        "    '.-':'a','-...':'b','-.-.':'c','-..':'d','.':'e','..-.':'f',\n",
        "    '--.':'g','....':'h','..':'i','.---':'j','-.-':'k','.-..':'l',\n",
        "    '--':'m','-.':'n','---':'o','.--.':'p','--.-':'q','.-.':'r',\n",
        "    '...':'s','-':'t','..-':'u','...-':'v','.--':'w','-..-':'x',\n",
        "    '-.--':'y','--..':'z'\n",
        "}\n",
        "    \n",
        "    words = letter.split(' ')\n",
        "    decoded_letters = [morse[word] for word in words]\n",
        "    return ''.join(decoded_letters)"
      ]
    }
  ],
  "metadata": {
    "colab": {
      "provenance": []
    },
    "kernelspec": {
      "display_name": "Python 3",
      "name": "python3"
    },
    "language_info": {
      "codemirror_mode": {
        "name": "ipython",
        "version": 3
      },
      "file_extension": ".py",
      "mimetype": "text/x-python",
      "name": "python",
      "nbconvert_exporter": "python",
      "pygments_lexer": "ipython3",
      "version": "3.9.7"
    }
  },
  "nbformat": 4,
  "nbformat_minor": 0
}
